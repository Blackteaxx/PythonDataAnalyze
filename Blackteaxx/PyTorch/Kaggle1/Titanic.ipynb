{
 "cells": [
  {
   "cell_type": "code",
   "execution_count": null,
   "metadata": {},
   "outputs": [],
   "source": [
    "# 数据处理\n",
    "import pandas as pd"
   ]
  },
  {
   "cell_type": "code",
   "execution_count": null,
   "metadata": {},
   "outputs": [],
   "source": [
    "df = pd.read_csv(\"train.csv\", index_col=0)\n",
    "df.head()"
   ]
  },
  {
   "cell_type": "code",
   "execution_count": null,
   "metadata": {},
   "outputs": [],
   "source": [
    "df['Sex'].loc[df['Sex'] == 'male']= 1\n",
    "df['Sex'].loc[df['Sex'] == 'female']= 0\n",
    "df"
   ]
  },
  {
   "cell_type": "code",
   "execution_count": null,
   "metadata": {},
   "outputs": [],
   "source": [
    "df['Age'] = df['Age'].fillna(df['Age'].mean())\n",
    "df "
   ]
  },
  {
   "cell_type": "code",
   "execution_count": null,
   "metadata": {},
   "outputs": [],
   "source": [
    "df2 = df[['Survived','Pclass','Sex','Age','SibSp','Parch']]\n",
    "df2.index.astype(int)"
   ]
  },
  {
   "cell_type": "code",
   "execution_count": null,
   "metadata": {},
   "outputs": [],
   "source": [
    "df2.to_csv(\"train1.csv\")"
   ]
  },
  {
   "cell_type": "code",
   "execution_count": null,
   "metadata": {},
   "outputs": [],
   "source": [
    "test_df = pd.read_csv(\"test.csv\", index_col=0)\n",
    "test_df['Sex'].loc[test_df['Sex'] == 'male']= 1\n",
    "test_df['Sex'].loc[test_df['Sex'] == 'female']= 0\n",
    "test_df['Age'] = test_df['Age'].fillna(test_df['Age'].mean())\n",
    "df2 = test_df[['Pclass','Sex','Age','SibSp','Parch']]\n",
    "df2.to_csv(\"test1.csv\")"
   ]
  },
  {
   "cell_type": "code",
   "execution_count": null,
   "metadata": {},
   "outputs": [],
   "source": [
    "import torch\n",
    "from torch.utils.data import Dataset, DataLoader\n",
    "import numpy as np\n",
    "\n",
    "class TitanicDataset(Dataset):\n",
    "    def __init__(self, filepath) -> None:\n",
    "        temp = np.loadtxt(filepath, delimiter=',', dtype=np.float32, skiprows=1)\n",
    "        self.length = temp.shape[0]\n",
    "        self.x_data = temp[:,[2,3,4,5,6]] \n",
    "        self.y_data = temp[:,[1]]\n",
    "\n",
    "    def __getitem__(self, index):\n",
    "        return self.x_data[index], self.y_data[index]\n",
    "\n",
    "    def __len__(self):\n",
    "        return self.length\n",
    "\n",
    "\n",
    "train_dataset = TitanicDataset('train1.csv')\n",
    "train_loader = DataLoader(train_dataset, batch_size=32, shuffle=True, num_workers=0)\n",
    "\n",
    "class Model(torch.nn.Module):\n",
    "    def __init__(self) -> None:\n",
    "        super().__init__()\n",
    "        self.linear1 = torch.nn.Linear(5,3)\n",
    "        self.linear2 = torch.nn.Linear(3,1)\n",
    "        self.sigmoid = torch.nn.Sigmoid()\n",
    "\n",
    "    def forward(self, x):\n",
    "        x = self.sigmoid(self.linear1(x))\n",
    "        x = self.sigmoid(self.linear2(x))\n",
    "        return x\n",
    "\n",
    "\n",
    "model = Model()\n",
    "criterion = torch.nn.BCELoss(size_average=True)\n",
    "optimizer = torch.optim.SGD(model.parameters(), lr=0.05)\n",
    "\n",
    "\n",
    "\n",
    "for epoch in range(100000):\n",
    "    for i,data in enumerate(train_loader, 0):\n",
    "        inputs, labels = data\n",
    "        y_pred = model(inputs)\n",
    "        loss = criterion(y_pred, labels)\n",
    "        print(epoch, i, loss.item())\n",
    "\n",
    "        optimizer.zero_grad()\n",
    "        loss.backward()\n",
    "\n",
    "        optimizer.step()\n"
   ]
  },
  {
   "cell_type": "code",
   "execution_count": null,
   "metadata": {},
   "outputs": [],
   "source": [
    "class TitanicTestDataset(Dataset):\n",
    "    def __init__(self, filepath) -> None:\n",
    "        temp = np.loadtxt(filepath, delimiter=',', dtype=np.float32, skiprows=1)\n",
    "        self.length = temp.shape[0]\n",
    "        self.x_data = temp[:,[1,2,3,4,5]] \n",
    "\n",
    "    def __getitem__(self, index):\n",
    "        return self.x_data[index]\n",
    "\n",
    "    def __len__(self):\n",
    "        return self.length\n",
    "\n",
    "\n",
    "test_dataset = TitanicTestDataset('test1.csv')\n",
    "test_loader = DataLoader(test_dataset, batch_size=1, shuffle=False, num_workers=0)\n",
    "result_list = []\n",
    "\n",
    "for data in test_loader:\n",
    "    y = model(data)\n",
    "    result_list.append(y.item())\n",
    "\n",
    "\n",
    "for index in range(len(result_list)):\n",
    "    if result_list[index] > 0.5:\n",
    "        result_list[index] = 1\n",
    "    else:\n",
    "        result_list[index] = 0"
   ]
  },
  {
   "cell_type": "code",
   "execution_count": null,
   "metadata": {},
   "outputs": [],
   "source": [
    "result = pd.read_csv('test1.csv', index_col=0)\n",
    "result['Survived'] = result_list\n",
    "result.head()\n",
    "result2 = result['Survived']\n",
    "result2\n",
    "result2.to_csv('test2.csv')"
   ]
  }
 ],
 "metadata": {
  "kernelspec": {
   "display_name": "base",
   "language": "python",
   "name": "python3"
  },
  "language_info": {
   "codemirror_mode": {
    "name": "ipython",
    "version": 3
   },
   "file_extension": ".py",
   "mimetype": "text/x-python",
   "name": "python",
   "nbconvert_exporter": "python",
   "pygments_lexer": "ipython3",
   "version": "3.9.12 (main, Apr  4 2022, 05:22:27) [MSC v.1916 64 bit (AMD64)]"
  },
  "orig_nbformat": 4,
  "vscode": {
   "interpreter": {
    "hash": "5179d32cf6ec497baf3f8a3ef987cc77c5d2dc691fdde20a56316522f61a7323"
   }
  }
 },
 "nbformat": 4,
 "nbformat_minor": 2
}
