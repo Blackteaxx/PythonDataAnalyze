{
 "cells": [
  {
   "cell_type": "code",
   "execution_count": 46,
   "metadata": {},
   "outputs": [],
   "source": [
    "import numpy as np\n",
    "import pandas as pd\n",
    "import string\n",
    "import nltk\n",
    "from nltk.tokenize import word_tokenize\n",
    "from nltk.corpus import stopwords\n",
    "from nltk.stem import PorterStemmer\n"
   ]
  },
  {
   "attachments": {},
   "cell_type": "markdown",
   "metadata": {},
   "source": [
    "# 1. 数据预处理"
   ]
  },
  {
   "cell_type": "code",
   "execution_count": 41,
   "metadata": {},
   "outputs": [
    {
     "name": "stderr",
     "output_type": "stream",
     "text": [
      "C:\\Users\\86139\\AppData\\Local\\Temp\\ipykernel_22924\\610759299.py:1: DtypeWarning: Columns (2,3,4,5,6,7,8) have mixed types. Specify dtype option on import or set low_memory=False.\n",
      "  testdf = pd.read_csv(\"YT_Videos_Comments.csv\")\n"
     ]
    },
    {
     "data": {
      "text/plain": [
       "Index(['User', 'Video Title', 'Video Description', 'Video ID',\n",
       "       'Comment (Displayed)', 'Comment (Actual)', 'Comment Author',\n",
       "       'Comment Author Channel ID', 'Comment Time'],\n",
       "      dtype='object')"
      ]
     },
     "execution_count": 41,
     "metadata": {},
     "output_type": "execute_result"
    }
   ],
   "source": [
    "testdf = pd.read_csv(\"YT_Videos_Comments.csv\")\n",
    "testdf.head()\n",
    "testdf.columns"
   ]
  },
  {
   "attachments": {},
   "cell_type": "markdown",
   "metadata": {},
   "source": [
    "## 1.1 选择Comment和Comment Author作为特征构建的主要内容\n",
    "我的想法：对评论分词，然后对CommentAuthor计数，就这样"
   ]
  },
  {
   "attachments": {},
   "cell_type": "markdown",
   "metadata": {},
   "source": [
    "### 去缺失值"
   ]
  },
  {
   "cell_type": "code",
   "execution_count": 42,
   "metadata": {},
   "outputs": [
    {
     "name": "stdout",
     "output_type": "stream",
     "text": [
      "User                              0\n",
      "Video Title                     149\n",
      "Video Description            196767\n",
      "Video ID                     429330\n",
      "Comment (Displayed)          467375\n",
      "Comment (Actual)             482881\n",
      "Comment Author               482909\n",
      "Comment Author Channel ID    482868\n",
      "Comment Time                 482862\n",
      "dtype: int64\n"
     ]
    },
    {
     "data": {
      "text/html": [
       "<div>\n",
       "<style scoped>\n",
       "    .dataframe tbody tr th:only-of-type {\n",
       "        vertical-align: middle;\n",
       "    }\n",
       "\n",
       "    .dataframe tbody tr th {\n",
       "        vertical-align: top;\n",
       "    }\n",
       "\n",
       "    .dataframe thead th {\n",
       "        text-align: right;\n",
       "    }\n",
       "</style>\n",
       "<table border=\"1\" class=\"dataframe\">\n",
       "  <thead>\n",
       "    <tr style=\"text-align: right;\">\n",
       "      <th></th>\n",
       "      <th>User</th>\n",
       "      <th>Video Title</th>\n",
       "      <th>Comment (Actual)</th>\n",
       "      <th>Comment Author</th>\n",
       "    </tr>\n",
       "  </thead>\n",
       "  <tbody>\n",
       "    <tr>\n",
       "      <th>0</th>\n",
       "      <td>Cleo Abram</td>\n",
       "      <td>Robots made of spiders (yes, really)</td>\n",
       "      <td>zombie spider!! bomb the damn lab before it's ...</td>\n",
       "      <td>Bagus Hutomo</td>\n",
       "    </tr>\n",
       "    <tr>\n",
       "      <th>1</th>\n",
       "      <td>Cleo Abram</td>\n",
       "      <td>Robots made of spiders (yes, really)</td>\n",
       "      <td>This is way less cool than it seems, spiders a...</td>\n",
       "      <td>CMZ neu</td>\n",
       "    </tr>\n",
       "    <tr>\n",
       "      <th>2</th>\n",
       "      <td>Cleo Abram</td>\n",
       "      <td>Robots made of spiders (yes, really)</td>\n",
       "      <td>Spiders see this and this is why they made the...</td>\n",
       "      <td>Kiana Marrie</td>\n",
       "    </tr>\n",
       "    <tr>\n",
       "      <th>3</th>\n",
       "      <td>Cleo Abram</td>\n",
       "      <td>Robots made of spiders (yes, really)</td>\n",
       "      <td>you looks pretty 😍</td>\n",
       "      <td>Noob</td>\n",
       "    </tr>\n",
       "    <tr>\n",
       "      <th>4</th>\n",
       "      <td>Cleo Abram</td>\n",
       "      <td>Robots made of spiders (yes, really)</td>\n",
       "      <td>I can hear the hairs standing up on my wife’s ...</td>\n",
       "      <td>chancellor9000</td>\n",
       "    </tr>\n",
       "  </tbody>\n",
       "</table>\n",
       "</div>"
      ],
      "text/plain": [
       "         User                           Video Title  \\\n",
       "0  Cleo Abram  Robots made of spiders (yes, really)   \n",
       "1  Cleo Abram  Robots made of spiders (yes, really)   \n",
       "2  Cleo Abram  Robots made of spiders (yes, really)   \n",
       "3  Cleo Abram  Robots made of spiders (yes, really)   \n",
       "4  Cleo Abram  Robots made of spiders (yes, really)   \n",
       "\n",
       "                                    Comment (Actual)  Comment Author  \n",
       "0  zombie spider!! bomb the damn lab before it's ...    Bagus Hutomo  \n",
       "1  This is way less cool than it seems, spiders a...         CMZ neu  \n",
       "2  Spiders see this and this is why they made the...   Kiana Marrie   \n",
       "3                                 you looks pretty 😍            Noob  \n",
       "4  I can hear the hairs standing up on my wife’s ...  chancellor9000  "
      ]
     },
     "execution_count": 42,
     "metadata": {},
     "output_type": "execute_result"
    }
   ],
   "source": [
    "print(testdf.isnull().sum())\n",
    "\n",
    "testdf = testdf.dropna(subset=['Comment (Actual)'])\n",
    "testdf = testdf.dropna(subset=['Comment Author'])\n",
    "testdf = testdf.loc[:,['User', 'Video Title', 'Comment (Actual)', 'Comment Author']]\n",
    "testdf.head()"
   ]
  },
  {
   "attachments": {},
   "cell_type": "markdown",
   "metadata": {},
   "source": [
    "### 构建计数变量"
   ]
  },
  {
   "cell_type": "code",
   "execution_count": 43,
   "metadata": {},
   "outputs": [
    {
     "name": "stdout",
     "output_type": "stream",
     "text": [
      "(379032, 5)\n",
      "User                     0\n",
      "Video Title              0\n",
      "Comment (Actual)         0\n",
      "Comment Author           0\n",
      "Comment Author Counts    0\n",
      "dtype: int64\n"
     ]
    },
    {
     "data": {
      "text/html": [
       "<div>\n",
       "<style scoped>\n",
       "    .dataframe tbody tr th:only-of-type {\n",
       "        vertical-align: middle;\n",
       "    }\n",
       "\n",
       "    .dataframe tbody tr th {\n",
       "        vertical-align: top;\n",
       "    }\n",
       "\n",
       "    .dataframe thead th {\n",
       "        text-align: right;\n",
       "    }\n",
       "</style>\n",
       "<table border=\"1\" class=\"dataframe\">\n",
       "  <thead>\n",
       "    <tr style=\"text-align: right;\">\n",
       "      <th></th>\n",
       "      <th>User</th>\n",
       "      <th>Video Title</th>\n",
       "      <th>Comment (Actual)</th>\n",
       "      <th>Comment Author</th>\n",
       "      <th>Comment Author Counts</th>\n",
       "    </tr>\n",
       "  </thead>\n",
       "  <tbody>\n",
       "    <tr>\n",
       "      <th>0</th>\n",
       "      <td>Cleo Abram</td>\n",
       "      <td>Robots made of spiders (yes, really)</td>\n",
       "      <td>zombie spider!! bomb the damn lab before it's ...</td>\n",
       "      <td>Bagus Hutomo</td>\n",
       "      <td>1</td>\n",
       "    </tr>\n",
       "    <tr>\n",
       "      <th>1</th>\n",
       "      <td>Cleo Abram</td>\n",
       "      <td>Robots made of spiders (yes, really)</td>\n",
       "      <td>This is way less cool than it seems, spiders a...</td>\n",
       "      <td>CMZ neu</td>\n",
       "      <td>2</td>\n",
       "    </tr>\n",
       "    <tr>\n",
       "      <th>2</th>\n",
       "      <td>Cleo Abram</td>\n",
       "      <td>Robots made of spiders (yes, really)</td>\n",
       "      <td>Spiders see this and this is why they made the...</td>\n",
       "      <td>Kiana Marrie</td>\n",
       "      <td>1</td>\n",
       "    </tr>\n",
       "    <tr>\n",
       "      <th>3</th>\n",
       "      <td>Cleo Abram</td>\n",
       "      <td>Robots made of spiders (yes, really)</td>\n",
       "      <td>you looks pretty 😍</td>\n",
       "      <td>Noob</td>\n",
       "      <td>6</td>\n",
       "    </tr>\n",
       "    <tr>\n",
       "      <th>4</th>\n",
       "      <td>Cleo Abram</td>\n",
       "      <td>Robots made of spiders (yes, really)</td>\n",
       "      <td>I can hear the hairs standing up on my wife’s ...</td>\n",
       "      <td>chancellor9000</td>\n",
       "      <td>1</td>\n",
       "    </tr>\n",
       "  </tbody>\n",
       "</table>\n",
       "</div>"
      ],
      "text/plain": [
       "         User                           Video Title  \\\n",
       "0  Cleo Abram  Robots made of spiders (yes, really)   \n",
       "1  Cleo Abram  Robots made of spiders (yes, really)   \n",
       "2  Cleo Abram  Robots made of spiders (yes, really)   \n",
       "3  Cleo Abram  Robots made of spiders (yes, really)   \n",
       "4  Cleo Abram  Robots made of spiders (yes, really)   \n",
       "\n",
       "                                    Comment (Actual)  Comment Author  \\\n",
       "0  zombie spider!! bomb the damn lab before it's ...    Bagus Hutomo   \n",
       "1  This is way less cool than it seems, spiders a...         CMZ neu   \n",
       "2  Spiders see this and this is why they made the...   Kiana Marrie    \n",
       "3                                 you looks pretty 😍            Noob   \n",
       "4  I can hear the hairs standing up on my wife’s ...  chancellor9000   \n",
       "\n",
       "   Comment Author Counts  \n",
       "0                      1  \n",
       "1                      2  \n",
       "2                      1  \n",
       "3                      6  \n",
       "4                      1  "
      ]
     },
     "execution_count": 43,
     "metadata": {},
     "output_type": "execute_result"
    }
   ],
   "source": [
    "# 构建CommentAuthor计数向量\n",
    "testdf['Comment Author Counts'] = testdf['Comment Author'].map(testdf['Comment Author'].value_counts())\n",
    "print(testdf.shape)\n",
    "print(testdf.isnull().sum())\n",
    "testdf.head()\n"
   ]
  },
  {
   "attachments": {},
   "cell_type": "markdown",
   "metadata": {},
   "source": [
    "### 去除特殊符号"
   ]
  },
  {
   "cell_type": "code",
   "execution_count": 44,
   "metadata": {},
   "outputs": [],
   "source": [
    "# def remove_punctuation(text):\n",
    "#     pattern = re.compile(r'[^\\w\\s]')\n",
    "#     return re.sub(pattern, '', text)\n",
    "\n",
    "# testdf['Comment (Actual)'] = testdf['Comment (Actual)'].apply(remove_punctuation)\n",
    "\n",
    "# testdf.head()"
   ]
  },
  {
   "attachments": {},
   "cell_type": "markdown",
   "metadata": {},
   "source": [
    "## 1.2 文本预处理，我照着gpt干的"
   ]
  },
  {
   "cell_type": "code",
   "execution_count": 47,
   "metadata": {},
   "outputs": [
    {
     "data": {
      "text/html": [
       "<div>\n",
       "<style scoped>\n",
       "    .dataframe tbody tr th:only-of-type {\n",
       "        vertical-align: middle;\n",
       "    }\n",
       "\n",
       "    .dataframe tbody tr th {\n",
       "        vertical-align: top;\n",
       "    }\n",
       "\n",
       "    .dataframe thead th {\n",
       "        text-align: right;\n",
       "    }\n",
       "</style>\n",
       "<table border=\"1\" class=\"dataframe\">\n",
       "  <thead>\n",
       "    <tr style=\"text-align: right;\">\n",
       "      <th></th>\n",
       "      <th>User</th>\n",
       "      <th>Video Title</th>\n",
       "      <th>Comment (Actual)</th>\n",
       "      <th>Comment Author</th>\n",
       "      <th>Comment Author Counts</th>\n",
       "      <th>Comment Seg</th>\n",
       "    </tr>\n",
       "  </thead>\n",
       "  <tbody>\n",
       "    <tr>\n",
       "      <th>0</th>\n",
       "      <td>Cleo Abram</td>\n",
       "      <td>Robots made of spiders (yes, really)</td>\n",
       "      <td>zombie spider!! bomb the damn lab before it's ...</td>\n",
       "      <td>Bagus Hutomo</td>\n",
       "      <td>1</td>\n",
       "      <td>zombi spider bomb damn lab late</td>\n",
       "    </tr>\n",
       "    <tr>\n",
       "      <th>1</th>\n",
       "      <td>Cleo Abram</td>\n",
       "      <td>Robots made of spiders (yes, really)</td>\n",
       "      <td>This is way less cool than it seems, spiders a...</td>\n",
       "      <td>CMZ neu</td>\n",
       "      <td>2</td>\n",
       "      <td>way less cool seem spider actual muscl extens ...</td>\n",
       "    </tr>\n",
       "    <tr>\n",
       "      <th>2</th>\n",
       "      <td>Cleo Abram</td>\n",
       "      <td>Robots made of spiders (yes, really)</td>\n",
       "      <td>Spiders see this and this is why they made the...</td>\n",
       "      <td>Kiana Marrie</td>\n",
       "      <td>1</td>\n",
       "      <td>spider see made terrifi go poke panic button</td>\n",
       "    </tr>\n",
       "    <tr>\n",
       "      <th>3</th>\n",
       "      <td>Cleo Abram</td>\n",
       "      <td>Robots made of spiders (yes, really)</td>\n",
       "      <td>you looks pretty 😍</td>\n",
       "      <td>Noob</td>\n",
       "      <td>6</td>\n",
       "      <td>look pretti</td>\n",
       "    </tr>\n",
       "    <tr>\n",
       "      <th>4</th>\n",
       "      <td>Cleo Abram</td>\n",
       "      <td>Robots made of spiders (yes, really)</td>\n",
       "      <td>I can hear the hairs standing up on my wife’s ...</td>\n",
       "      <td>chancellor9000</td>\n",
       "      <td>1</td>\n",
       "      <td>hear hair stand wife arm mile away</td>\n",
       "    </tr>\n",
       "  </tbody>\n",
       "</table>\n",
       "</div>"
      ],
      "text/plain": [
       "         User                           Video Title  \\\n",
       "0  Cleo Abram  Robots made of spiders (yes, really)   \n",
       "1  Cleo Abram  Robots made of spiders (yes, really)   \n",
       "2  Cleo Abram  Robots made of spiders (yes, really)   \n",
       "3  Cleo Abram  Robots made of spiders (yes, really)   \n",
       "4  Cleo Abram  Robots made of spiders (yes, really)   \n",
       "\n",
       "                                    Comment (Actual)  Comment Author  \\\n",
       "0  zombie spider!! bomb the damn lab before it's ...    Bagus Hutomo   \n",
       "1  This is way less cool than it seems, spiders a...         CMZ neu   \n",
       "2  Spiders see this and this is why they made the...   Kiana Marrie    \n",
       "3                                 you looks pretty 😍            Noob   \n",
       "4  I can hear the hairs standing up on my wife’s ...  chancellor9000   \n",
       "\n",
       "   Comment Author Counts                                        Comment Seg  \n",
       "0                      1                    zombi spider bomb damn lab late  \n",
       "1                      2  way less cool seem spider actual muscl extens ...  \n",
       "2                      1       spider see made terrifi go poke panic button  \n",
       "3                      6                                        look pretti  \n",
       "4                      1                 hear hair stand wife arm mile away  "
      ]
     },
     "execution_count": 47,
     "metadata": {},
     "output_type": "execute_result"
    }
   ],
   "source": [
    "stop_words = set(stopwords.words('english'))\n",
    "stemmer = PorterStemmer()\n",
    "\n",
    "# 分词+去停用词函数，这边需要下载一个语料库\n",
    "def text_segmentation(text):\n",
    "    # Remove punctuation marks\n",
    "    text = text.translate(str.maketrans(\"\", \"\", string.punctuation))\n",
    "    \n",
    "    # Remove emojis\n",
    "    text = text.encode('ascii', 'ignore').decode('ascii')\n",
    "    \n",
    "    # Remove stopwords\n",
    "    tokens = word_tokenize(text)\n",
    "    tokens = [token.lower() for token in tokens if token.lower() not in stop_words]\n",
    "    \n",
    "    # stemmer\n",
    "    tokens = [stemmer.stem(token) for token in tokens]\n",
    "    return \" \".join(tokens)\n",
    "\n",
    "testdf[\"Comment Seg\"] = testdf[\"Comment (Actual)\"].apply(text_segmentation)\n",
    "testdf.head()"
   ]
  },
  {
   "attachments": {},
   "cell_type": "markdown",
   "metadata": {},
   "source": [
    "# 1.3 保存"
   ]
  },
  {
   "cell_type": "code",
   "execution_count": 49,
   "metadata": {},
   "outputs": [
    {
     "data": {
      "text/html": [
       "<div>\n",
       "<style scoped>\n",
       "    .dataframe tbody tr th:only-of-type {\n",
       "        vertical-align: middle;\n",
       "    }\n",
       "\n",
       "    .dataframe tbody tr th {\n",
       "        vertical-align: top;\n",
       "    }\n",
       "\n",
       "    .dataframe thead th {\n",
       "        text-align: right;\n",
       "    }\n",
       "</style>\n",
       "<table border=\"1\" class=\"dataframe\">\n",
       "  <thead>\n",
       "    <tr style=\"text-align: right;\">\n",
       "      <th></th>\n",
       "      <th>User</th>\n",
       "      <th>Video Title</th>\n",
       "      <th>Comment (Actual)</th>\n",
       "      <th>Comment Author</th>\n",
       "      <th>Comment Author Counts</th>\n",
       "      <th>Comment Seg</th>\n",
       "    </tr>\n",
       "  </thead>\n",
       "  <tbody>\n",
       "    <tr>\n",
       "      <th>0</th>\n",
       "      <td>Cleo Abram</td>\n",
       "      <td>Robots made of spiders (yes, really)</td>\n",
       "      <td>zombie spider!! bomb the damn lab before it's ...</td>\n",
       "      <td>Bagus Hutomo</td>\n",
       "      <td>1</td>\n",
       "      <td>zombi spider bomb damn lab late</td>\n",
       "    </tr>\n",
       "    <tr>\n",
       "      <th>1</th>\n",
       "      <td>Cleo Abram</td>\n",
       "      <td>Robots made of spiders (yes, really)</td>\n",
       "      <td>This is way less cool than it seems, spiders a...</td>\n",
       "      <td>CMZ neu</td>\n",
       "      <td>2</td>\n",
       "      <td>way less cool seem spider actual muscl extens ...</td>\n",
       "    </tr>\n",
       "    <tr>\n",
       "      <th>2</th>\n",
       "      <td>Cleo Abram</td>\n",
       "      <td>Robots made of spiders (yes, really)</td>\n",
       "      <td>Spiders see this and this is why they made the...</td>\n",
       "      <td>Kiana Marrie</td>\n",
       "      <td>1</td>\n",
       "      <td>spider see made terrifi go poke panic button</td>\n",
       "    </tr>\n",
       "    <tr>\n",
       "      <th>3</th>\n",
       "      <td>Cleo Abram</td>\n",
       "      <td>Robots made of spiders (yes, really)</td>\n",
       "      <td>you looks pretty 😍</td>\n",
       "      <td>Noob</td>\n",
       "      <td>6</td>\n",
       "      <td>look pretti</td>\n",
       "    </tr>\n",
       "    <tr>\n",
       "      <th>4</th>\n",
       "      <td>Cleo Abram</td>\n",
       "      <td>Robots made of spiders (yes, really)</td>\n",
       "      <td>I can hear the hairs standing up on my wife’s ...</td>\n",
       "      <td>chancellor9000</td>\n",
       "      <td>1</td>\n",
       "      <td>hear hair stand wife arm mile away</td>\n",
       "    </tr>\n",
       "  </tbody>\n",
       "</table>\n",
       "</div>"
      ],
      "text/plain": [
       "         User                           Video Title  \\\n",
       "0  Cleo Abram  Robots made of spiders (yes, really)   \n",
       "1  Cleo Abram  Robots made of spiders (yes, really)   \n",
       "2  Cleo Abram  Robots made of spiders (yes, really)   \n",
       "3  Cleo Abram  Robots made of spiders (yes, really)   \n",
       "4  Cleo Abram  Robots made of spiders (yes, really)   \n",
       "\n",
       "                                    Comment (Actual)  Comment Author  \\\n",
       "0  zombie spider!! bomb the damn lab before it's ...    Bagus Hutomo   \n",
       "1  This is way less cool than it seems, spiders a...         CMZ neu   \n",
       "2  Spiders see this and this is why they made the...   Kiana Marrie    \n",
       "3                                 you looks pretty 😍            Noob   \n",
       "4  I can hear the hairs standing up on my wife’s ...  chancellor9000   \n",
       "\n",
       "   Comment Author Counts                                        Comment Seg  \n",
       "0                      1                    zombi spider bomb damn lab late  \n",
       "1                      2  way less cool seem spider actual muscl extens ...  \n",
       "2                      1       spider see made terrifi go poke panic button  \n",
       "3                      6                                        look pretti  \n",
       "4                      1                 hear hair stand wife arm mile away  "
      ]
     },
     "execution_count": 49,
     "metadata": {},
     "output_type": "execute_result"
    }
   ],
   "source": [
    "testdf.to_csv(\"preProcessdata.csv\", index=False)\n",
    "df = pd.read_csv(\"preProcessdata.csv\")\n",
    "df.head()"
   ]
  }
 ],
 "metadata": {
  "kernelspec": {
   "display_name": "base",
   "language": "python",
   "name": "python3"
  },
  "language_info": {
   "codemirror_mode": {
    "name": "ipython",
    "version": 3
   },
   "file_extension": ".py",
   "mimetype": "text/x-python",
   "name": "python",
   "nbconvert_exporter": "python",
   "pygments_lexer": "ipython3",
   "version": "3.9.12"
  },
  "orig_nbformat": 4
 },
 "nbformat": 4,
 "nbformat_minor": 2
}
