{
 "cells": [
  {
   "cell_type": "code",
   "execution_count": 1,
   "metadata": {},
   "outputs": [],
   "source": [
    "from sklearn.feature_extraction.text import CountVectorizer\n",
    "from sklearn.decomposition import LatentDirichletAllocation\n",
    "import pandas as pd"
   ]
  },
  {
   "cell_type": "code",
   "execution_count": null,
   "metadata": {},
   "outputs": [],
   "source": [
    "news = pd.read_csv(\"OnlineNewsPopularity.csv\")\n",
    "news.head()"
   ]
  },
  {
   "cell_type": "code",
   "execution_count": null,
   "metadata": {},
   "outputs": [],
   "source": [
    "import nltk\n",
    "from nltk.tokenize import word_tokenize\n",
    "from nltk.corpus import stopwords\n",
    "\n",
    "stop_words = set(stopwords.words('english'))\n",
    "\n",
    "# 分词+去停用词函数，这边需要下载一个语料库\n",
    "def text_segmentation(text):\n",
    "    # Remove punctuation marks\n",
    "    text = text.translate(str.maketrans(\"\", \"\", string.punctuation))\n",
    "    \n",
    "    # Remove stopwords\n",
    "    tokens = word_tokenize(text)\n",
    "    tokens = [token.lower() for token in tokens if token.lower() not in stop_words]\n",
    "    \n",
    "    return \" \".join(tokens)\n",
    "\n",
    "testdf[\"Comment Seg\"] = testdf[\"Comment (Actual)\"].apply(text_segmentation)"
   ]
  },
  {
   "cell_type": "code",
   "execution_count": null,
   "metadata": {},
   "outputs": [],
   "source": [
    "# 读取新闻数据集并进行预处理\n",
    "news = pd.read_csv('news.csv')\n",
    "vectorizer = CountVectorizer(stop_words='english')\n",
    "X = vectorizer.fit_transform(news['text'])"
   ]
  },
  {
   "cell_type": "code",
   "execution_count": null,
   "metadata": {},
   "outputs": [],
   "source": [
    "# 训练LDA模型\n",
    "lda_model = LatentDirichletAllocation(n_components=10, \n",
    "                                      max_iter=10, \n",
    "                                      learning_method='online',\n",
    "                                      doc_topic_prior=0.1,\n",
    "                                      topic_word_prior=0.01,\n",
    "                                      random_state=0)\n",
    "lda_Z = lda_model.fit_transform(X)\n",
    "\n",
    "# 输出主题下的关键词，根据主题词判定分类\n",
    "feature_names = vectorizer.get_feature_names()\n",
    "for topic_idx, topic in enumerate(lda_model.components_):\n",
    "    print(\"Topic %d:\" % (topic_idx))\n",
    "    print(\" \".join([feature_names[i] for i in topic.argsort()[:-10 - 1:-1]]))\n",
    "\n",
    "# 使用LDA主题模型对未见过的新闻进行主题分类\n",
    "new_news = [\"xxx\", \"yyy\", \"zzz\"]\n",
    "new_X = vectorizer.transform(new_news)\n",
    "new_lda_Z = lda_model.transform(new_X)\n",
    "print(new_lda_Z)"
   ]
  }
 ],
 "metadata": {
  "kernelspec": {
   "display_name": "base",
   "language": "python",
   "name": "python3"
  },
  "language_info": {
   "codemirror_mode": {
    "name": "ipython",
    "version": 3
   },
   "file_extension": ".py",
   "mimetype": "text/x-python",
   "name": "python",
   "nbconvert_exporter": "python",
   "pygments_lexer": "ipython3",
   "version": "3.9.12"
  },
  "orig_nbformat": 4
 },
 "nbformat": 4,
 "nbformat_minor": 2
}
