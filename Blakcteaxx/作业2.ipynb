{
 "cells": [
  {
   "cell_type": "markdown",
   "metadata": {},
   "source": [
    "# 第二次课作业"
   ]
  },
  {
   "cell_type": "code",
   "execution_count": 1,
   "metadata": {},
   "outputs": [],
   "source": [
    "import numpy as np"
   ]
  },
  {
   "cell_type": "markdown",
   "metadata": {},
   "source": [
    "（1）创建一个1到10的数组，然后逆序输出。"
   ]
  },
  {
   "cell_type": "code",
   "execution_count": 3,
   "metadata": {},
   "outputs": [
    {
     "data": {
      "text/plain": [
       "array([ 1,  2,  3,  4,  5,  6,  7,  8,  9, 10])"
      ]
     },
     "execution_count": 3,
     "metadata": {},
     "output_type": "execute_result"
    }
   ],
   "source": [
    "a =  np.arange(1,11)\n",
    "a"
   ]
  },
  {
   "cell_type": "code",
   "execution_count": 4,
   "metadata": {},
   "outputs": [
    {
     "data": {
      "text/plain": [
       "array([10,  9,  8,  7,  6,  5,  4,  3,  2,  1])"
      ]
     },
     "execution_count": 4,
     "metadata": {},
     "output_type": "execute_result"
    }
   ],
   "source": [
    "a[-1::-1]"
   ]
  },
  {
   "cell_type": "markdown",
   "metadata": {},
   "source": [
    "（2）创建一个长度为20的全1数组，然后变成一个4×5的二维矩阵并转置。"
   ]
  },
  {
   "cell_type": "code",
   "execution_count": 6,
   "metadata": {},
   "outputs": [
    {
     "data": {
      "text/plain": [
       "array([[1., 1., 1., 1.],\n",
       "       [1., 1., 1., 1.],\n",
       "       [1., 1., 1., 1.],\n",
       "       [1., 1., 1., 1.],\n",
       "       [1., 1., 1., 1.]])"
      ]
     },
     "execution_count": 6,
     "metadata": {},
     "output_type": "execute_result"
    }
   ],
   "source": [
    "a = np.ones([20])\n",
    "b = a.reshape((4,5)).transpose()\n",
    "b"
   ]
  },
  {
   "cell_type": "markdown",
   "metadata": {},
   "source": [
    "（3）创建一个3x3x3的随机数组。\n",
    "(提示: np.random.random)"
   ]
  },
  {
   "cell_type": "code",
   "execution_count": 7,
   "metadata": {},
   "outputs": [
    {
     "data": {
      "text/plain": [
       "array([[[0.2332263 , 0.85456086, 0.96325769],\n",
       "        [0.00532915, 0.69676662, 0.95731451],\n",
       "        [0.92492736, 0.54803557, 0.8787475 ]],\n",
       "\n",
       "       [[0.40752915, 0.7798283 , 0.8267187 ],\n",
       "        [0.19474928, 0.41573032, 0.80379513],\n",
       "        [0.38076987, 0.16058834, 0.09757234]],\n",
       "\n",
       "       [[0.10515906, 0.04427701, 0.22620756],\n",
       "        [0.70892571, 0.99494136, 0.37302098],\n",
       "        [0.13936976, 0.31596893, 0.31861418]]])"
      ]
     },
     "execution_count": 7,
     "metadata": {},
     "output_type": "execute_result"
    }
   ],
   "source": [
    "a = np.random.random((3,3,3))\n",
    "a"
   ]
  },
  {
   "cell_type": "markdown",
   "metadata": {},
   "source": [
    "（4）从1到10中随机选取10个数，构成一个长度为10的数组，并将其排序。获取其最大值最小值，求和，求方差。"
   ]
  },
  {
   "cell_type": "code",
   "execution_count": 14,
   "metadata": {},
   "outputs": [
    {
     "data": {
      "text/plain": [
       "array([1, 2, 2, 4, 5, 6, 7, 7, 7, 8])"
      ]
     },
     "execution_count": 14,
     "metadata": {},
     "output_type": "execute_result"
    }
   ],
   "source": [
    "a = np.random.randint(1,10,10)\n",
    "a\n",
    "a = np.sort(a)\n",
    "a"
   ]
  },
  {
   "cell_type": "code",
   "execution_count": 15,
   "metadata": {},
   "outputs": [
    {
     "name": "stdout",
     "output_type": "stream",
     "text": [
      "8 1\n"
     ]
    }
   ],
   "source": [
    "max = a.max()\n",
    "min = a.min()\n",
    "print(max,min)"
   ]
  },
  {
   "cell_type": "code",
   "execution_count": 16,
   "metadata": {},
   "outputs": [
    {
     "name": "stdout",
     "output_type": "stream",
     "text": [
      "49 5.6899999999999995\n"
     ]
    }
   ],
   "source": [
    "sum = a.sum()\n",
    "var = a.var()\n",
    "print(sum,var)"
   ]
  },
  {
   "cell_type": "markdown",
   "metadata": {},
   "source": [
    "（5）从1到10中随机选取10个数，构成一个长度为10的数组，选出其中的奇数。"
   ]
  },
  {
   "cell_type": "code",
   "execution_count": 18,
   "metadata": {},
   "outputs": [
    {
     "name": "stdout",
     "output_type": "stream",
     "text": [
      "[9 5 3 1 7 7 1 9] [9 5 3 1 8 7 7 6 1 9]\n"
     ]
    }
   ],
   "source": [
    "a = np.random.randint(1,10,10)\n",
    "print(a[a%2!=0],a)"
   ]
  },
  {
   "cell_type": "markdown",
   "metadata": {},
   "source": [
    "（6）生成0到100，差为5的一个等差数列，然后将数据类型转化为整数。"
   ]
  },
  {
   "cell_type": "code",
   "execution_count": 21,
   "metadata": {},
   "outputs": [
    {
     "data": {
      "text/plain": [
       "array([  0,   5,  10,  15,  20,  25,  30,  35,  40,  45,  50,  55,  60,\n",
       "        65,  70,  75,  80,  85,  90,  95, 100])"
      ]
     },
     "execution_count": 21,
     "metadata": {},
     "output_type": "execute_result"
    }
   ],
   "source": [
    "a = np.linspace(0,100,21)\n",
    "a = a.astype(int)\n",
    "a"
   ]
  },
  {
   "attachments": {},
   "cell_type": "markdown",
   "metadata": {},
   "source": [
    "（7）从1到10中随机选取10个数，大于3和小于8的取负数。"
   ]
  },
  {
   "cell_type": "code",
   "execution_count": 28,
   "metadata": {},
   "outputs": [
    {
     "data": {
      "text/plain": [
       "array([-7,  1, -5, -6,  2,  3, -4, -7, -6, -7])"
      ]
     },
     "execution_count": 28,
     "metadata": {},
     "output_type": "execute_result"
    }
   ],
   "source": [
    "a = np.random.randint(1,10,10)\n",
    "a[(a>3) & (a<8)] = -1 * a[(a>3) & (a<8)]\n",
    "a\n"
   ]
  },
  {
   "cell_type": "markdown",
   "metadata": {},
   "source": [
    "（8）在数组[1, 2, 3, 4, 5]中相邻两个数字中间插入1个0。"
   ]
  },
  {
   "cell_type": "code",
   "execution_count": 30,
   "metadata": {},
   "outputs": [
    {
     "data": {
      "text/plain": [
       "array([1, 0, 2, 0, 3, 0, 4, 0, 5])"
      ]
     },
     "execution_count": 30,
     "metadata": {},
     "output_type": "execute_result"
    }
   ],
   "source": [
    "a = np.array([1,2,3,4,5])\n",
    "result = np.zeros(9,dtype=int)\n",
    "result[::2] = a\n",
    "result"
   ]
  },
  {
   "cell_type": "markdown",
   "metadata": {},
   "source": [
    "（9）新建一个5乘5的随机二位数组，交换其中两行？比如交换第一二行。"
   ]
  },
  {
   "cell_type": "code",
   "execution_count": 31,
   "metadata": {},
   "outputs": [
    {
     "data": {
      "text/plain": [
       "array([[0.60248234, 0.0221739 , 0.96911108, 0.29489501, 0.81033611],\n",
       "       [0.92933312, 0.28962428, 0.50480061, 0.97575003, 0.30676499],\n",
       "       [0.15843057, 0.24986663, 0.15318215, 0.51171144, 0.19834456],\n",
       "       [0.15863201, 0.56060046, 0.99896885, 0.92428774, 0.58047529],\n",
       "       [0.06532111, 0.70728976, 0.86449164, 0.37043458, 0.44586781]])"
      ]
     },
     "execution_count": 31,
     "metadata": {},
     "output_type": "execute_result"
    }
   ],
   "source": [
    "a = np.random.random((5,5))\n",
    "a"
   ]
  },
  {
   "cell_type": "code",
   "execution_count": 32,
   "metadata": {},
   "outputs": [
    {
     "data": {
      "text/plain": [
       "array([[0.92933312, 0.28962428, 0.50480061, 0.97575003, 0.30676499],\n",
       "       [0.60248234, 0.0221739 , 0.96911108, 0.29489501, 0.81033611],\n",
       "       [0.15843057, 0.24986663, 0.15318215, 0.51171144, 0.19834456],\n",
       "       [0.15863201, 0.56060046, 0.99896885, 0.92428774, 0.58047529],\n",
       "       [0.06532111, 0.70728976, 0.86449164, 0.37043458, 0.44586781]])"
      ]
     },
     "execution_count": 32,
     "metadata": {},
     "output_type": "execute_result"
    }
   ],
   "source": [
    "temp = a[0,:].copy()\n",
    "a[0,:] = a[1,:].copy()\n",
    "a[1,:] = temp\n",
    "a"
   ]
  },
  {
   "cell_type": "code",
   "execution_count": 33,
   "metadata": {},
   "outputs": [
    {
     "data": {
      "text/plain": [
       "array([[0.60248234, 0.0221739 , 0.96911108, 0.29489501, 0.81033611],\n",
       "       [0.92933312, 0.28962428, 0.50480061, 0.97575003, 0.30676499],\n",
       "       [0.15843057, 0.24986663, 0.15318215, 0.51171144, 0.19834456],\n",
       "       [0.15863201, 0.56060046, 0.99896885, 0.92428774, 0.58047529],\n",
       "       [0.06532111, 0.70728976, 0.86449164, 0.37043458, 0.44586781]])"
      ]
     },
     "execution_count": 33,
     "metadata": {},
     "output_type": "execute_result"
    }
   ],
   "source": [
    "# 或者\n",
    "a[[1,0,2,3,4]]"
   ]
  },
  {
   "cell_type": "markdown",
   "metadata": {},
   "source": [
    "（10）把一个10\\*2的随机生成的笛卡尔坐标转换成极坐标。"
   ]
  },
  {
   "cell_type": "code",
   "execution_count": 54,
   "metadata": {},
   "outputs": [
    {
     "data": {
      "text/plain": [
       "array([[8.24621125, 0.24497866],\n",
       "       [9.21954446, 0.21866895],\n",
       "       [9.43398113, 0.55859932],\n",
       "       [8.24621125, 1.32581766],\n",
       "       [7.28010989, 1.29249667],\n",
       "       [9.48683298, 1.24904577],\n",
       "       [9.43398113, 0.55859932],\n",
       "       [2.82842712, 0.78539816],\n",
       "       [9.21954446, 1.35212738],\n",
       "       [6.70820393, 1.10714872]])"
      ]
     },
     "execution_count": 54,
     "metadata": {},
     "output_type": "execute_result"
    }
   ],
   "source": [
    "#笛卡尔坐标\n",
    "a = np.random.randint(1,10,(10,2))\n",
    "#极坐标\n",
    "x = a[:,0]\n",
    "y = a[:,1]\n",
    "r = np.sqrt(x**2+y**2)  #距原点距离\n",
    "R = np.arctan(y/x)  #弧度\n",
    "# zip打包可迭代对象，成元组\n",
    "result = np.array(list(zip(r,R)))\n",
    "result"
   ]
  },
  {
   "cell_type": "markdown",
   "metadata": {},
   "source": [
    "（11）创建一个长度为10并且除了第五个值为1其余的值为2的向量。"
   ]
  },
  {
   "cell_type": "code",
   "execution_count": 56,
   "metadata": {},
   "outputs": [
    {
     "data": {
      "text/plain": [
       "array([2, 2, 2, 2, 1, 2, 2, 2, 2, 2])"
      ]
     },
     "execution_count": 56,
     "metadata": {},
     "output_type": "execute_result"
    }
   ],
   "source": [
    "a = 2*np.ones(10,dtype=int)\n",
    "a[4] = 1\n",
    "a"
   ]
  },
  {
   "cell_type": "markdown",
   "metadata": {},
   "source": [
    "（12）创建一个长度为10的随机向量，并求其累计和。"
   ]
  },
  {
   "cell_type": "code",
   "execution_count": 58,
   "metadata": {},
   "outputs": [
    {
     "name": "stdout",
     "output_type": "stream",
     "text": [
      "[0.25596392 0.72113432 0.41094441 0.43341599 0.34410093 0.74385886\n",
      " 0.33760945 0.5199929  0.73506026 0.0285613 ] [0.25596392 0.97709825 1.38804266 1.82145865 2.16555958 2.90941844\n",
      " 3.24702789 3.76702079 4.50208105 4.53064235]\n"
     ]
    }
   ],
   "source": [
    "a = np.random.random(10)\n",
    "result = a.cumsum()\n",
    "print(a,result)"
   ]
  },
  {
   "cell_type": "markdown",
   "metadata": {},
   "source": [
    "（13）将数组中的所有奇数替换成-1。"
   ]
  },
  {
   "cell_type": "code",
   "execution_count": 59,
   "metadata": {},
   "outputs": [
    {
     "data": {
      "text/plain": [
       "array([ 8, -1,  2,  4, -1, -1,  8,  2,  8, -1])"
      ]
     },
     "execution_count": 59,
     "metadata": {},
     "output_type": "execute_result"
    }
   ],
   "source": [
    "a = np.random.randint(1,10,10)\n",
    "a[(a%2) != 0] = -1\n",
    "a"
   ]
  },
  {
   "cell_type": "markdown",
   "metadata": {},
   "source": [
    "（14）构造两个4乘3的二维数组，按照3种方法进行连接？"
   ]
  },
  {
   "cell_type": "code",
   "execution_count": 60,
   "metadata": {},
   "outputs": [],
   "source": [
    "a = np.random.random((4,3))\n",
    "b = np.random.random((4,3))"
   ]
  },
  {
   "cell_type": "code",
   "execution_count": 62,
   "metadata": {},
   "outputs": [
    {
     "data": {
      "text/plain": [
       "array([[0.9825212 , 0.467519  , 0.44211588],\n",
       "       [0.6719971 , 0.70231304, 0.43271449],\n",
       "       [0.76789635, 0.53675558, 0.02645875],\n",
       "       [0.03953407, 0.52990524, 0.30806891],\n",
       "       [0.51968613, 0.34209458, 0.50333274],\n",
       "       [0.86784388, 0.90798242, 0.13605725],\n",
       "       [0.38215051, 0.57805035, 0.71172643],\n",
       "       [0.37464826, 0.37457617, 0.29587104]])"
      ]
     },
     "execution_count": 62,
     "metadata": {},
     "output_type": "execute_result"
    }
   ],
   "source": [
    "r1 = np.vstack((a,b))\n",
    "r1"
   ]
  },
  {
   "cell_type": "code",
   "execution_count": 64,
   "metadata": {},
   "outputs": [
    {
     "data": {
      "text/plain": [
       "array([[0.9825212 , 0.467519  , 0.44211588, 0.51968613, 0.34209458,\n",
       "        0.50333274],\n",
       "       [0.6719971 , 0.70231304, 0.43271449, 0.86784388, 0.90798242,\n",
       "        0.13605725],\n",
       "       [0.76789635, 0.53675558, 0.02645875, 0.38215051, 0.57805035,\n",
       "        0.71172643],\n",
       "       [0.03953407, 0.52990524, 0.30806891, 0.37464826, 0.37457617,\n",
       "        0.29587104]])"
      ]
     },
     "execution_count": 64,
     "metadata": {},
     "output_type": "execute_result"
    }
   ],
   "source": [
    "r2 = np.hstack((a,b))\n",
    "r2"
   ]
  },
  {
   "cell_type": "code",
   "execution_count": 66,
   "metadata": {},
   "outputs": [
    {
     "data": {
      "text/plain": [
       "array([[[0.9825212 , 0.51968613],\n",
       "        [0.467519  , 0.34209458],\n",
       "        [0.44211588, 0.50333274]],\n",
       "\n",
       "       [[0.6719971 , 0.86784388],\n",
       "        [0.70231304, 0.90798242],\n",
       "        [0.43271449, 0.13605725]],\n",
       "\n",
       "       [[0.76789635, 0.38215051],\n",
       "        [0.53675558, 0.57805035],\n",
       "        [0.02645875, 0.71172643]],\n",
       "\n",
       "       [[0.03953407, 0.37464826],\n",
       "        [0.52990524, 0.37457617],\n",
       "        [0.30806891, 0.29587104]]])"
      ]
     },
     "execution_count": 66,
     "metadata": {},
     "output_type": "execute_result"
    }
   ],
   "source": [
    "r3 = np.dstack((a,b))\n",
    "r3"
   ]
  },
  {
   "cell_type": "markdown",
   "metadata": {},
   "source": [
    "（15）获取数组 a 和 b 中的共同项（索引位置相同，值也相同）。\n",
    "a = np.array([1,2,3,2,3,4,3,4,5,6])，b = np.array([7,2,10,2,7,4,9,4,9,8])"
   ]
  },
  {
   "cell_type": "code",
   "execution_count": 67,
   "metadata": {},
   "outputs": [
    {
     "data": {
      "text/plain": [
       "array([2, 2, 4, 4])"
      ]
     },
     "execution_count": 67,
     "metadata": {},
     "output_type": "execute_result"
    }
   ],
   "source": [
    "a = np.array([1,2,3,2,3,4,3,4,5,6])\n",
    "b = np.array([7,2,10,2,7,4,9,4,9,8])\n",
    "c = a-b\n",
    "a[c==0]"
   ]
  },
  {
   "cell_type": "markdown",
   "metadata": {},
   "source": [
    "（16）从数组 a 中提取 5 和 10 之间的所有项。a=np.array([7,2,10,2,7,4,9,4,9,8])"
   ]
  },
  {
   "cell_type": "code",
   "execution_count": 68,
   "metadata": {},
   "outputs": [
    {
     "data": {
      "text/plain": [
       "array([7, 7, 9, 9, 8])"
      ]
     },
     "execution_count": 68,
     "metadata": {},
     "output_type": "execute_result"
    }
   ],
   "source": [
    "a = np.array([7,2,10,2,7,4,9,4,9,8])\n",
    "a[(a>5)&(a<10)]"
   ]
  }
 ],
 "metadata": {
  "kernelspec": {
   "display_name": "base",
   "language": "python",
   "name": "python3"
  },
  "language_info": {
   "codemirror_mode": {
    "name": "ipython",
    "version": 3
   },
   "file_extension": ".py",
   "mimetype": "text/x-python",
   "name": "python",
   "nbconvert_exporter": "python",
   "pygments_lexer": "ipython3",
   "version": "3.9.12"
  },
  "vscode": {
   "interpreter": {
    "hash": "5179d32cf6ec497baf3f8a3ef987cc77c5d2dc691fdde20a56316522f61a7323"
   }
  }
 },
 "nbformat": 4,
 "nbformat_minor": 2
}
