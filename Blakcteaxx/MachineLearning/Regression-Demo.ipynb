{
 "cells": [
  {
   "cell_type": "code",
   "execution_count": 3,
   "metadata": {},
   "outputs": [],
   "source": [
    "import numpy as np\n",
    "import matplotlib.pyplot as plt"
   ]
  },
  {
   "cell_type": "code",
   "execution_count": 4,
   "metadata": {},
   "outputs": [],
   "source": [
    "x_data = [338.,333.,328.,207.,226.,25.,179.,60.,208.,606.]\n",
    "y_data = [640.,633.,619.,393.,428.,27.,193.,66.,226.,1591.]\n",
    "# ydata = b + w * xdata"
   ]
  },
  {
   "cell_type": "code",
   "execution_count": 19,
   "metadata": {},
   "outputs": [
    {
     "data": {
      "image/png": "[encoded data removed]",
      "text/plain": [
       "<Figure size 432x288 with 1 Axes>"
      ]
     },
     "metadata": {
      "needs_background": "light"
     },
     "output_type": "display_data"
    }
   ],
   "source": [
    "x = np.arange(-200, -100, 1) # bias\n",
    "y = np.arange(-5,5, 0.1) # weight\n",
    "Z = np.zeros([len(x), len(y)])\n",
    "X, Y = np.meshgrid(x, y)\n",
    "b = -120 # initial b\n",
    "w = -4 # initial w\n",
    "lr = 1 # learning rate\n",
    "iteration = 100000\n",
    "\n",
    "# Store initial values for plotting\n",
    "b_history = [b]\n",
    "w_history = [w]\n",
    "\n",
    "lr_b = 0\n",
    "lr_w = 0\n",
    "\n",
    "# Iterations\n",
    "for i in range(iteration):\n",
    "\n",
    "    b_grad = 0.0\n",
    "    w_grad = 0.0\n",
    "\n",
    "    # calculate the partial differential\n",
    "    for n in range(len(x_data)):\n",
    "        w_grad = w_grad + 2.0 * x_data[n] * (x_data[n] * w + b - y_data[n])\n",
    "        b_grad = b_grad + 2.0 * (x_data[n] * w + b - y_data[n])\n",
    "\n",
    "    lr_b = lr_b + b_grad ** 2\n",
    "    lr_w = lr_w + w_grad ** 2\n",
    "\n",
    "    # update parameters\n",
    "    b = b - lr/(lr_b**(1/2)) * b_grad\n",
    "    w = w - lr/(lr_w**(1/2)) * w_grad\n",
    "\n",
    "    # Store parameters for plotting\n",
    "    b_history.append(b)\n",
    "    w_history.append(w)\n",
    "\n",
    "# plot the figure\n",
    "# plt.contour(x,y,Z, 50, alpha=0.5, cmap=plt.get_cmap('jet'))\n",
    "plt.plot([-188,4], [2,67], 'x', ms=12, markeredgewidth=3, color='orange')\n",
    "plt.plot(b_history, w_history, 'o-', ms=3, lw=1.5, color='black')\n",
    "plt.xlim(-200, -100)\n",
    "plt.ylim(-5,5)\n",
    "plt.xlabel(r'$b$', fontsize=16)\n",
    "plt.ylabel(r'$w$', fontsize=16)\n",
    "plt.show()\n",
    "\n",
    "\n",
    " "
   ]
  }
 ],
 "metadata": {
  "kernelspec": {
   "display_name": "base",
   "language": "python",
   "name": "python3"
  },
  "language_info": {
   "codemirror_mode": {
    "name": "ipython",
    "version": 3
   },
   "file_extension": ".py",
   "mimetype": "text/x-python",
   "name": "python",
   "nbconvert_exporter": "python",
   "pygments_lexer": "ipython3",
   "version": "3.9.12 (main, Apr  4 2022, 05:22:27) [MSC v.1916 64 bit (AMD64)]"
  },
  "orig_nbformat": 4,
  "vscode": {
   "interpreter": {
    "hash": "5179d32cf6ec497baf3f8a3ef987cc77c5d2dc691fdde20a56316522f61a7323"
   }
  }
 },
 "nbformat": 4,
 "nbformat_minor": 2
}
