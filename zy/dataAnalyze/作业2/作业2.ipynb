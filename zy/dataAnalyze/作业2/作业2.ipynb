{
 "cells": [
  {
   "cell_type": "markdown",
   "metadata": {},
   "source": [
    "# 第二次课作业"
   ]
  },
  {
   "cell_type": "code",
   "execution_count": 33,
   "metadata": {},
   "outputs": [],
   "source": [
    "import numpy as np\n",
    "import random as rd"
   ]
  },
  {
   "cell_type": "markdown",
   "metadata": {},
   "source": [
    "（1）创建一个1到10的数组，然后逆序输出。"
   ]
  },
  {
   "cell_type": "code",
   "execution_count": 2,
   "metadata": {},
   "outputs": [
    {
     "data": {
      "text/plain": [
       "array([10,  9,  8,  7,  6,  5,  4,  3,  2,  1])"
      ]
     },
     "execution_count": 2,
     "metadata": {},
     "output_type": "execute_result"
    }
   ],
   "source": [
    "l1 = np.array([i for i in range(1,11)])\n",
    "l1[::-1]"
   ]
  },
  {
   "cell_type": "markdown",
   "metadata": {},
   "source": [
    "（2）创建一个长度为20的全1数组，然后变成一个4×5的二维矩阵并转置。"
   ]
  },
  {
   "cell_type": "code",
   "execution_count": 4,
   "metadata": {},
   "outputs": [
    {
     "data": {
      "text/plain": [
       "array([[1., 1., 1., 1.],\n",
       "       [1., 1., 1., 1.],\n",
       "       [1., 1., 1., 1.],\n",
       "       [1., 1., 1., 1.],\n",
       "       [1., 1., 1., 1.]])"
      ]
     },
     "execution_count": 4,
     "metadata": {},
     "output_type": "execute_result"
    }
   ],
   "source": [
    "l2 = np.ones(20).reshape(4,5).T\n",
    "l2"
   ]
  },
  {
   "cell_type": "markdown",
   "metadata": {},
   "source": [
    "（3）创建一个3x3x3的随机数组。\n",
    "(提示: np.random.random)"
   ]
  },
  {
   "cell_type": "code",
   "execution_count": 6,
   "metadata": {},
   "outputs": [
    {
     "data": {
      "text/plain": [
       "array([[0.08905812, 0.17217106, 0.7732834 ],\n",
       "       [0.66158599, 0.63099004, 0.24219964],\n",
       "       [0.69998161, 0.07019705, 0.92562218]])"
      ]
     },
     "execution_count": 6,
     "metadata": {},
     "output_type": "execute_result"
    }
   ],
   "source": [
    "np.random.random(9).reshape(3,3)"
   ]
  },
  {
   "cell_type": "markdown",
   "metadata": {},
   "source": [
    "（4）从1到10中随机选取10个数，构成一个长度为10的数组，并将其排序。获取其最大值最小值，求和，求方差。"
   ]
  },
  {
   "cell_type": "code",
   "execution_count": 13,
   "metadata": {},
   "outputs": [
    {
     "name": "stdout",
     "output_type": "stream",
     "text": [
      "[ 2  2  3  4  5  5  7  9  9 10]\n",
      "10\n",
      "2\n",
      "56\n",
      "2.835489375751565\n"
     ]
    }
   ],
   "source": [
    "l3=np.random.randint(1,11,10)\n",
    "print(np.sort(l3))\n",
    "print(l3.max())\n",
    "print(l3.min())\n",
    "print(l3.sum())\n",
    "print(l3.std())"
   ]
  },
  {
   "cell_type": "markdown",
   "metadata": {},
   "source": [
    "（5）从1到10中随机选取10个数，构成一个长度为10的数组，选出其中的奇数。"
   ]
  },
  {
   "cell_type": "code",
   "execution_count": 15,
   "metadata": {},
   "outputs": [
    {
     "data": {
      "text/plain": [
       "array([5, 9, 1, 9, 9, 5, 3])"
      ]
     },
     "execution_count": 15,
     "metadata": {},
     "output_type": "execute_result"
    }
   ],
   "source": [
    "l4 = np.random.randint(1,11,10)\n",
    "l4[l4%2==1]"
   ]
  },
  {
   "cell_type": "markdown",
   "metadata": {},
   "source": [
    "（6）生成0到100，差为5的一个等差数列，然后将数据类型转化为整数。"
   ]
  },
  {
   "cell_type": "code",
   "execution_count": 19,
   "metadata": {},
   "outputs": [
    {
     "data": {
      "text/plain": [
       "array([  0,  25,  50,  75, 100])"
      ]
     },
     "execution_count": 19,
     "metadata": {},
     "output_type": "execute_result"
    }
   ],
   "source": [
    "np.linspace(0,100,5).astype(int)"
   ]
  },
  {
   "cell_type": "markdown",
   "metadata": {},
   "source": [
    "（7）从1到10中随机选取10个数，大于3和小于8的取负数。"
   ]
  },
  {
   "cell_type": "code",
   "execution_count": 24,
   "metadata": {},
   "outputs": [
    {
     "data": {
      "text/plain": [
       "array([-4, -7])"
      ]
     },
     "execution_count": 24,
     "metadata": {},
     "output_type": "execute_result"
    }
   ],
   "source": [
    "l5 = np.random.randint(1,11,10)\n",
    "l5[np.where((l5>3) & (l5<8))]*(-1)"
   ]
  },
  {
   "cell_type": "markdown",
   "metadata": {},
   "source": [
    "（8）在数组[1, 2, 3, 4, 5]中相邻两个数字中间插入1个0。"
   ]
  },
  {
   "cell_type": "code",
   "execution_count": 30,
   "metadata": {},
   "outputs": [
    {
     "data": {
      "text/plain": [
       "array([1, 0, 2, 0, 3, 0, 4, 0, 5])"
      ]
     },
     "execution_count": 30,
     "metadata": {},
     "output_type": "execute_result"
    }
   ],
   "source": [
    "a = np.array([1,2,3,4,5])\n",
    "result = np.zeros(9,dtype=int)\n",
    "result[::2] = a\n",
    "result"
   ]
  },
  {
   "cell_type": "markdown",
   "metadata": {},
   "source": [
    "（9）新建一个5乘5的随机二位数组，交换其中两行？比如交换第一二行。"
   ]
  },
  {
   "cell_type": "markdown",
   "metadata": {},
   "source": [
    "注意变量指向问题"
   ]
  },
  {
   "cell_type": "code",
   "execution_count": 29,
   "metadata": {},
   "outputs": [
    {
     "name": "stdout",
     "output_type": "stream",
     "text": [
      "[[0.02774426 0.20970709 0.99138757 0.02740685 0.59517844]\n",
      " [0.65993441 0.99664105 0.60556336 0.56954096 0.50597384]\n",
      " [0.20700026 0.51921836 0.52650313 0.10388627 0.29909257]\n",
      " [0.6324416  0.94272616 0.0607537  0.5373395  0.3093455 ]\n",
      " [0.15263338 0.00720881 0.5701214  0.8562844  0.00986203]]\n",
      "[[0.65993441 0.99664105 0.60556336 0.56954096 0.50597384]\n",
      " [0.02774426 0.20970709 0.99138757 0.02740685 0.59517844]\n",
      " [0.20700026 0.51921836 0.52650313 0.10388627 0.29909257]\n",
      " [0.6324416  0.94272616 0.0607537  0.5373395  0.3093455 ]\n",
      " [0.15263338 0.00720881 0.5701214  0.8562844  0.00986203]]\n"
     ]
    }
   ],
   "source": [
    "l6 = np.random.rand(25).reshape(5,5)\n",
    "print(l6)\n",
    "a = l6[1].copy()\n",
    "l6[1]=l6[0].copy()\n",
    "l6[0]=a\n",
    "print(l6)"
   ]
  },
  {
   "cell_type": "code",
   "execution_count": 33,
   "metadata": {},
   "outputs": [
    {
     "data": {
      "text/plain": [
       "array([[0.60248234, 0.0221739 , 0.96911108, 0.29489501, 0.81033611],\n",
       "       [0.92933312, 0.28962428, 0.50480061, 0.97575003, 0.30676499],\n",
       "       [0.15843057, 0.24986663, 0.15318215, 0.51171144, 0.19834456],\n",
       "       [0.15863201, 0.56060046, 0.99896885, 0.92428774, 0.58047529],\n",
       "       [0.06532111, 0.70728976, 0.86449164, 0.37043458, 0.44586781]])"
      ]
     },
     "execution_count": 33,
     "metadata": {},
     "output_type": "execute_result"
    }
   ],
   "source": [
    "# 或者\n",
    "# 靠，居然忘了这个\n",
    "a[[1,0,2,3,4]]"
   ]
  },
  {
   "cell_type": "markdown",
   "metadata": {},
   "source": [
    "（10）把一个10\\*2的随机生成的笛卡尔坐标转换成极坐标。"
   ]
  },
  {
   "cell_type": "code",
   "execution_count": 43,
   "metadata": {},
   "outputs": [
    {
     "data": {
      "text/plain": [
       "array([[[0.99876459, 0.09415922],\n",
       "        [1.00261677, 1.24900697],\n",
       "        [0.31190392, 0.44782497],\n",
       "        [0.71107671, 0.78691781],\n",
       "        [0.84120267, 0.98788066],\n",
       "        [1.27521129, 0.71912554],\n",
       "        [1.16409388, 0.96983385],\n",
       "        [1.01892331, 0.55915572],\n",
       "        [0.79539591, 0.20913614],\n",
       "        [0.88472758, 0.1253597 ]]])"
      ]
     },
     "execution_count": 43,
     "metadata": {},
     "output_type": "execute_result"
    }
   ],
   "source": [
    "a= np.random.rand(10)\n",
    "b= np.random.rand(10)\n",
    "c = (a**2+b**2)**0.5\n",
    "d =  np.arctan(b/a)\n",
    "np.dstack((c,d))"
   ]
  },
  {
   "cell_type": "markdown",
   "metadata": {},
   "source": [
    "（11）创建一个长度为10并且除了第五个值为1其余的值为2的向量。"
   ]
  },
  {
   "cell_type": "code",
   "execution_count": 49,
   "metadata": {},
   "outputs": [
    {
     "data": {
      "text/plain": [
       "array([2., 2., 2., 2., 1., 2., 2., 2., 2., 2.])"
      ]
     },
     "execution_count": 49,
     "metadata": {},
     "output_type": "execute_result"
    }
   ],
   "source": [
    "l = np.ones(10)\n",
    "l.fill(2)\n",
    "l[4]=1\n",
    "l"
   ]
  },
  {
   "cell_type": "markdown",
   "metadata": {},
   "source": [
    "（12）创建一个长度为10的随机向量，并求其累计和。"
   ]
  },
  {
   "cell_type": "code",
   "execution_count": 36,
   "metadata": {},
   "outputs": [
    {
     "data": {
      "text/plain": [
       "array([11.        , 20.43398113])"
      ]
     },
     "execution_count": 36,
     "metadata": {},
     "output_type": "execute_result"
    }
   ],
   "source": [
    "x = rd.randint(1,11)\n",
    "l = np.array([x,(100-x)**0.5])\n",
    "np.cumsum(l)"
   ]
  },
  {
   "cell_type": "markdown",
   "metadata": {},
   "source": [
    "（13）将数组中的所有奇数替换成-1。"
   ]
  },
  {
   "cell_type": "code",
   "execution_count": 32,
   "metadata": {},
   "outputs": [
    {
     "data": {
      "text/plain": [
       "array([-1, -1,  6, 10,  8, -1,  8, 10, 10, -1])"
      ]
     },
     "execution_count": 32,
     "metadata": {},
     "output_type": "execute_result"
    }
   ],
   "source": [
    "l4 = np.random.randint(1,11,10)\n",
    "l4[l4%2==1]=-1\n",
    "l4"
   ]
  },
  {
   "cell_type": "markdown",
   "metadata": {},
   "source": [
    "（14）构造两个4乘3的二维数组，按照3种方法进行连接？"
   ]
  },
  {
   "cell_type": "code",
   "execution_count": 52,
   "metadata": {},
   "outputs": [
    {
     "name": "stdout",
     "output_type": "stream",
     "text": [
      "[[1. 1. 1.]\n",
      " [1. 1. 1.]\n",
      " [1. 1. 1.]\n",
      " [1. 1. 1.]\n",
      " [0. 0. 0.]\n",
      " [0. 0. 0.]\n",
      " [0. 0. 0.]\n",
      " [0. 0. 0.]]\n",
      "[[[1. 0.]\n",
      "  [1. 0.]\n",
      "  [1. 0.]]\n",
      "\n",
      " [[1. 0.]\n",
      "  [1. 0.]\n",
      "  [1. 0.]]\n",
      "\n",
      " [[1. 0.]\n",
      "  [1. 0.]\n",
      "  [1. 0.]]\n",
      "\n",
      " [[1. 0.]\n",
      "  [1. 0.]\n",
      "  [1. 0.]]]\n",
      "[[1. 1. 1. 0. 0. 0.]\n",
      " [1. 1. 1. 0. 0. 0.]\n",
      " [1. 1. 1. 0. 0. 0.]\n",
      " [1. 1. 1. 0. 0. 0.]]\n"
     ]
    }
   ],
   "source": [
    "a = np.ones((4,3))\n",
    "b = np.zeros((4,3))\n",
    "print(np.vstack((a,b)))\n",
    "print(np.dstack((a,b)))\n",
    "print(np.hstack((a,b)))"
   ]
  },
  {
   "cell_type": "markdown",
   "metadata": {},
   "source": [
    "（15）获取数组 a 和 b 中的共同项（索引位置相同，值也相同）。\n",
    "a = np.array([1,2,3,2,3,4,3,4,5,6])，b = np.array([7,2,10,2,7,4,9,4,9,8])"
   ]
  },
  {
   "cell_type": "code",
   "execution_count": 60,
   "metadata": {},
   "outputs": [
    {
     "data": {
      "text/plain": [
       "array([2, 2, 4, 4])"
      ]
     },
     "execution_count": 60,
     "metadata": {},
     "output_type": "execute_result"
    }
   ],
   "source": [
    "a = np.array([1,2,3,2,3,4,3,4,5,6])\n",
    "b = np.array([7,2,10,2,7,4,9,4,9,8])\n",
    "c = a/b\n",
    "a[c==1]"
   ]
  },
  {
   "cell_type": "markdown",
   "metadata": {},
   "source": [
    "（16）从数组 a 中提取 5 和 10 之间的所有项。a=np.array([7,2,10,2,7,4,9,4,9,8])"
   ]
  },
  {
   "cell_type": "code",
   "execution_count": 63,
   "metadata": {},
   "outputs": [
    {
     "data": {
      "text/plain": [
       "array([7, 7, 9, 9, 8])"
      ]
     },
     "execution_count": 63,
     "metadata": {},
     "output_type": "execute_result"
    }
   ],
   "source": [
    "a=np.array([7,2,10,2,7,4,9,4,9,8])\n",
    "a[np.where((a>5)&(a<10))]"
   ]
  },
  {
   "cell_type": "code",
   "execution_count": null,
   "metadata": {},
   "outputs": [],
   "source": []
  }
 ],
 "metadata": {
  "kernelspec": {
   "display_name": "Python 3 (ipykernel)",
   "language": "python",
   "name": "python3"
  },
  "language_info": {
   "codemirror_mode": {
    "name": "ipython",
    "version": 3
   },
   "file_extension": ".py",
   "mimetype": "text/x-python",
   "name": "python",
   "nbconvert_exporter": "python",
   "pygments_lexer": "ipython3",
   "version": "3.9.6"
  },
  "vscode": {
   "interpreter": {
    "hash": "5179d32cf6ec497baf3f8a3ef987cc77c5d2dc691fdde20a56316522f61a7323"
   }
  }
 },
 "nbformat": 4,
 "nbformat_minor": 2
}
